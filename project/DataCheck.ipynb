{
 "cells": [
  {
   "cell_type": "markdown",
   "id": "b5cab942-6bc3-4259-b448-25ce021bcf95",
   "metadata": {},
   "source": [
    "# Load Data in Clean State"
   ]
  },
  {
   "cell_type": "code",
   "execution_count": 1,
   "id": "ba15d6cd",
   "metadata": {},
   "outputs": [],
   "source": [
    "import pandas as pd\n",
    "import numpy as np"
   ]
  },
  {
   "cell_type": "code",
   "execution_count": 2,
   "id": "d4588432",
   "metadata": {
    "scrolled": true
   },
   "outputs": [],
   "source": [
    "df = pd.read_csv('data/census.csv', skipinitialspace = True )"
   ]
  },
  {
   "cell_type": "code",
   "execution_count": 3,
   "id": "88eaef8b-1b73-48a1-9f8d-823898d9d5ab",
   "metadata": {},
   "outputs": [
    {
     "data": {
      "text/plain": [
       "age                int64\n",
       "workclass         object\n",
       "fnlgt              int64\n",
       "education         object\n",
       "education-num      int64\n",
       "marital-status    object\n",
       "occupation        object\n",
       "relationship      object\n",
       "race              object\n",
       "sex               object\n",
       "capital-gain       int64\n",
       "capital-loss       int64\n",
       "hours-per-week     int64\n",
       "native-country    object\n",
       "salary            object\n",
       "dtype: object"
      ]
     },
     "execution_count": 3,
     "metadata": {},
     "output_type": "execute_result"
    }
   ],
   "source": [
    "df.dtypes"
   ]
  },
  {
   "cell_type": "code",
   "execution_count": 4,
   "id": "ba97caa6-70a9-427f-b0af-9d76837cd18c",
   "metadata": {},
   "outputs": [],
   "source": [
    "df.to_csv('data/clean_census.csv', index=False)"
   ]
  },
  {
   "cell_type": "code",
   "execution_count": 3,
   "id": "8d2d0169-10af-40c4-95ac-4c3aa2f56f95",
   "metadata": {
    "scrolled": true
   },
   "outputs": [],
   "source": [
    "df = pd.read_csv('data/clean_census.csv')"
   ]
  },
  {
   "cell_type": "markdown",
   "id": "17081c82-37b5-4940-b8af-6e8f877542de",
   "metadata": {},
   "source": [
    "# Data Understanding"
   ]
  },
  {
   "cell_type": "code",
   "execution_count": 4,
   "id": "a94e53dc-c920-4a58-9122-9a4aee7429e9",
   "metadata": {},
   "outputs": [
    {
     "name": "stdout",
     "output_type": "stream",
     "text": [
      "<class 'pandas.core.frame.DataFrame'>\n",
      "RangeIndex: 32561 entries, 0 to 32560\n",
      "Data columns (total 15 columns):\n",
      " #   Column          Non-Null Count  Dtype \n",
      "---  ------          --------------  ----- \n",
      " 0   age             32561 non-null  int64 \n",
      " 1   workclass       32561 non-null  object\n",
      " 2   fnlgt           32561 non-null  int64 \n",
      " 3   education       32561 non-null  object\n",
      " 4   education-num   32561 non-null  int64 \n",
      " 5   marital-status  32561 non-null  object\n",
      " 6   occupation      32561 non-null  object\n",
      " 7   relationship    32561 non-null  object\n",
      " 8   race            32561 non-null  object\n",
      " 9   sex             32561 non-null  object\n",
      " 10  capital-gain    32561 non-null  int64 \n",
      " 11  capital-loss    32561 non-null  int64 \n",
      " 12  hours-per-week  32561 non-null  int64 \n",
      " 13  native-country  32561 non-null  object\n",
      " 14  salary          32561 non-null  object\n",
      "dtypes: int64(6), object(9)\n",
      "memory usage: 3.7+ MB\n"
     ]
    }
   ],
   "source": [
    "df.info()"
   ]
  },
  {
   "cell_type": "code",
   "execution_count": 7,
   "id": "30d43875-820d-4b09-9525-09d6b7fc4c86",
   "metadata": {},
   "outputs": [
    {
     "data": {
      "text/html": [
       "<div>\n",
       "<style scoped>\n",
       "    .dataframe tbody tr th:only-of-type {\n",
       "        vertical-align: middle;\n",
       "    }\n",
       "\n",
       "    .dataframe tbody tr th {\n",
       "        vertical-align: top;\n",
       "    }\n",
       "\n",
       "    .dataframe thead th {\n",
       "        text-align: right;\n",
       "    }\n",
       "</style>\n",
       "<table border=\"1\" class=\"dataframe\">\n",
       "  <thead>\n",
       "    <tr style=\"text-align: right;\">\n",
       "      <th></th>\n",
       "      <th>age</th>\n",
       "      <th>fnlgt</th>\n",
       "      <th>education-num</th>\n",
       "      <th>capital-gain</th>\n",
       "      <th>capital-loss</th>\n",
       "      <th>hours-per-week</th>\n",
       "    </tr>\n",
       "  </thead>\n",
       "  <tbody>\n",
       "    <tr>\n",
       "      <th>count</th>\n",
       "      <td>32561.000000</td>\n",
       "      <td>3.256100e+04</td>\n",
       "      <td>32561.000000</td>\n",
       "      <td>32561.000000</td>\n",
       "      <td>32561.000000</td>\n",
       "      <td>32561.000000</td>\n",
       "    </tr>\n",
       "    <tr>\n",
       "      <th>mean</th>\n",
       "      <td>38.581647</td>\n",
       "      <td>1.897784e+05</td>\n",
       "      <td>10.080679</td>\n",
       "      <td>1077.648844</td>\n",
       "      <td>87.303830</td>\n",
       "      <td>40.437456</td>\n",
       "    </tr>\n",
       "    <tr>\n",
       "      <th>std</th>\n",
       "      <td>13.640433</td>\n",
       "      <td>1.055500e+05</td>\n",
       "      <td>2.572720</td>\n",
       "      <td>7385.292085</td>\n",
       "      <td>402.960219</td>\n",
       "      <td>12.347429</td>\n",
       "    </tr>\n",
       "    <tr>\n",
       "      <th>min</th>\n",
       "      <td>17.000000</td>\n",
       "      <td>1.228500e+04</td>\n",
       "      <td>1.000000</td>\n",
       "      <td>0.000000</td>\n",
       "      <td>0.000000</td>\n",
       "      <td>1.000000</td>\n",
       "    </tr>\n",
       "    <tr>\n",
       "      <th>25%</th>\n",
       "      <td>28.000000</td>\n",
       "      <td>1.178270e+05</td>\n",
       "      <td>9.000000</td>\n",
       "      <td>0.000000</td>\n",
       "      <td>0.000000</td>\n",
       "      <td>40.000000</td>\n",
       "    </tr>\n",
       "    <tr>\n",
       "      <th>50%</th>\n",
       "      <td>37.000000</td>\n",
       "      <td>1.783560e+05</td>\n",
       "      <td>10.000000</td>\n",
       "      <td>0.000000</td>\n",
       "      <td>0.000000</td>\n",
       "      <td>40.000000</td>\n",
       "    </tr>\n",
       "    <tr>\n",
       "      <th>75%</th>\n",
       "      <td>48.000000</td>\n",
       "      <td>2.370510e+05</td>\n",
       "      <td>12.000000</td>\n",
       "      <td>0.000000</td>\n",
       "      <td>0.000000</td>\n",
       "      <td>45.000000</td>\n",
       "    </tr>\n",
       "    <tr>\n",
       "      <th>max</th>\n",
       "      <td>90.000000</td>\n",
       "      <td>1.484705e+06</td>\n",
       "      <td>16.000000</td>\n",
       "      <td>99999.000000</td>\n",
       "      <td>4356.000000</td>\n",
       "      <td>99.000000</td>\n",
       "    </tr>\n",
       "  </tbody>\n",
       "</table>\n",
       "</div>"
      ],
      "text/plain": [
       "                age         fnlgt  education-num  capital-gain  capital-loss  \\\n",
       "count  32561.000000  3.256100e+04   32561.000000  32561.000000  32561.000000   \n",
       "mean      38.581647  1.897784e+05      10.080679   1077.648844     87.303830   \n",
       "std       13.640433  1.055500e+05       2.572720   7385.292085    402.960219   \n",
       "min       17.000000  1.228500e+04       1.000000      0.000000      0.000000   \n",
       "25%       28.000000  1.178270e+05       9.000000      0.000000      0.000000   \n",
       "50%       37.000000  1.783560e+05      10.000000      0.000000      0.000000   \n",
       "75%       48.000000  2.370510e+05      12.000000      0.000000      0.000000   \n",
       "max       90.000000  1.484705e+06      16.000000  99999.000000   4356.000000   \n",
       "\n",
       "       hours-per-week  \n",
       "count    32561.000000  \n",
       "mean        40.437456  \n",
       "std         12.347429  \n",
       "min          1.000000  \n",
       "25%         40.000000  \n",
       "50%         40.000000  \n",
       "75%         45.000000  \n",
       "max         99.000000  "
      ]
     },
     "execution_count": 7,
     "metadata": {},
     "output_type": "execute_result"
    }
   ],
   "source": [
    "df.describe()"
   ]
  },
  {
   "cell_type": "code",
   "execution_count": 14,
   "id": "29866d3d-1a3b-48ca-87c0-1d3ce853cdfd",
   "metadata": {
    "scrolled": true
   },
   "outputs": [
    {
     "data": {
      "text/plain": [
       "workclass          9\n",
       "education         16\n",
       "marital-status     7\n",
       "occupation        15\n",
       "relationship       6\n",
       "race               5\n",
       "sex                2\n",
       "native-country    42\n",
       "salary             2\n",
       "dtype: int64"
      ]
     },
     "metadata": {},
     "output_type": "display_data"
    },
    {
     "data": {
      "text/plain": [
       "workclass\n",
       "Private             22696\n",
       "Self-emp-not-inc     2541\n",
       "Local-gov            2093\n",
       "?                    1836\n",
       "State-gov            1298\n",
       "Self-emp-inc         1116\n",
       "Federal-gov           960\n",
       "Without-pay            14\n",
       "Never-worked            7\n",
       "Name: count, dtype: int64"
      ]
     },
     "metadata": {},
     "output_type": "display_data"
    },
    {
     "data": {
      "text/plain": [
       "education\n",
       "HS-grad         10501\n",
       "Some-college     7291\n",
       "Bachelors        5355\n",
       "Masters          1723\n",
       "Assoc-voc        1382\n",
       "11th             1175\n",
       "Assoc-acdm       1067\n",
       "10th              933\n",
       "7th-8th           646\n",
       "Prof-school       576\n",
       "9th               514\n",
       "12th              433\n",
       "Doctorate         413\n",
       "5th-6th           333\n",
       "1st-4th           168\n",
       "Preschool          51\n",
       "Name: count, dtype: int64"
      ]
     },
     "metadata": {},
     "output_type": "display_data"
    },
    {
     "data": {
      "text/plain": [
       "marital-status\n",
       "Married-civ-spouse       14976\n",
       "Never-married            10683\n",
       "Divorced                  4443\n",
       "Separated                 1025\n",
       "Widowed                    993\n",
       "Married-spouse-absent      418\n",
       "Married-AF-spouse           23\n",
       "Name: count, dtype: int64"
      ]
     },
     "metadata": {},
     "output_type": "display_data"
    },
    {
     "data": {
      "text/plain": [
       "occupation\n",
       "Prof-specialty       4140\n",
       "Craft-repair         4099\n",
       "Exec-managerial      4066\n",
       "Adm-clerical         3770\n",
       "Sales                3650\n",
       "Other-service        3295\n",
       "Machine-op-inspct    2002\n",
       "?                    1843\n",
       "Transport-moving     1597\n",
       "Handlers-cleaners    1370\n",
       "Farming-fishing       994\n",
       "Tech-support          928\n",
       "Protective-serv       649\n",
       "Priv-house-serv       149\n",
       "Armed-Forces            9\n",
       "Name: count, dtype: int64"
      ]
     },
     "metadata": {},
     "output_type": "display_data"
    },
    {
     "data": {
      "text/plain": [
       "relationship\n",
       "Husband           13193\n",
       "Not-in-family      8305\n",
       "Own-child          5068\n",
       "Unmarried          3446\n",
       "Wife               1568\n",
       "Other-relative      981\n",
       "Name: count, dtype: int64"
      ]
     },
     "metadata": {},
     "output_type": "display_data"
    },
    {
     "data": {
      "text/plain": [
       "race\n",
       "White                 27816\n",
       "Black                  3124\n",
       "Asian-Pac-Islander     1039\n",
       "Amer-Indian-Eskimo      311\n",
       "Other                   271\n",
       "Name: count, dtype: int64"
      ]
     },
     "metadata": {},
     "output_type": "display_data"
    },
    {
     "data": {
      "text/plain": [
       "sex\n",
       "Male      21790\n",
       "Female    10771\n",
       "Name: count, dtype: int64"
      ]
     },
     "metadata": {},
     "output_type": "display_data"
    },
    {
     "data": {
      "text/plain": [
       "native-country\n",
       "United-States                 29170\n",
       "Mexico                          643\n",
       "?                               583\n",
       "Philippines                     198\n",
       "Germany                         137\n",
       "Canada                          121\n",
       "Puerto-Rico                     114\n",
       "El-Salvador                     106\n",
       "India                           100\n",
       "Cuba                             95\n",
       "England                          90\n",
       "Jamaica                          81\n",
       "South                            80\n",
       "China                            75\n",
       "Italy                            73\n",
       "Dominican-Republic               70\n",
       "Vietnam                          67\n",
       "Guatemala                        64\n",
       "Japan                            62\n",
       "Poland                           60\n",
       "Columbia                         59\n",
       "Taiwan                           51\n",
       "Haiti                            44\n",
       "Iran                             43\n",
       "Portugal                         37\n",
       "Nicaragua                        34\n",
       "Peru                             31\n",
       "France                           29\n",
       "Greece                           29\n",
       "Ecuador                          28\n",
       "Ireland                          24\n",
       "Hong                             20\n",
       "Cambodia                         19\n",
       "Trinadad&Tobago                  19\n",
       "Laos                             18\n",
       "Thailand                         18\n",
       "Yugoslavia                       16\n",
       "Outlying-US(Guam-USVI-etc)       14\n",
       "Honduras                         13\n",
       "Hungary                          13\n",
       "Scotland                         12\n",
       "Holand-Netherlands                1\n",
       "Name: count, dtype: int64"
      ]
     },
     "metadata": {},
     "output_type": "display_data"
    },
    {
     "data": {
      "text/plain": [
       "salary\n",
       "<=50K    24720\n",
       ">50K      7841\n",
       "Name: count, dtype: int64"
      ]
     },
     "metadata": {},
     "output_type": "display_data"
    }
   ],
   "source": [
    "# how many values are there for each categorical column?\n",
    "str_cols = df.columns[df.dtypes==object]\n",
    "display(df[str_cols].nunique())\n",
    "for col in str_cols:\n",
    "    display(df[col].value_counts())"
   ]
  },
  {
   "cell_type": "markdown",
   "id": "9af5f5b0-a91f-4251-835d-4dcd83ba21f7",
   "metadata": {},
   "source": [
    "# Target-Label-based Slicing"
   ]
  },
  {
   "cell_type": "code",
   "execution_count": 5,
   "id": "f027ab8a-2c2d-4343-9f3a-9c8371de17d4",
   "metadata": {},
   "outputs": [],
   "source": [
    "cls_feat = 'salary'"
   ]
  },
  {
   "cell_type": "code",
   "execution_count": 6,
   "id": "f717cb46-c7fd-4cb4-bbab-e8595284dbb8",
   "metadata": {},
   "outputs": [],
   "source": [
    "numeric_cols = df.columns[df.dtypes!=object]"
   ]
  },
  {
   "cell_type": "code",
   "execution_count": 11,
   "id": "ae9039f9-3132-415f-a0ca-3ab9612dd3d2",
   "metadata": {
    "scrolled": true
   },
   "outputs": [
    {
     "name": "stdout",
     "output_type": "stream",
     "text": [
      "age\n",
      "Class: <=50K\n",
      "age mean: 36.7837\n",
      "age stddev: 14.0201\n",
      "Class: >50K\n",
      "age mean: 44.2498\n",
      "age stddev: 10.5190\n",
      "\n",
      "fnlgt\n",
      "Class: <=50K\n",
      "fnlgt mean: 190340.8652\n",
      "fnlgt stddev: 106482.2712\n",
      "Class: >50K\n",
      "fnlgt mean: 188005.0000\n",
      "fnlgt stddev: 102541.7755\n",
      "\n",
      "education-num\n",
      "Class: <=50K\n",
      "education-num mean: 9.5951\n",
      "education-num stddev: 2.4361\n",
      "Class: >50K\n",
      "education-num mean: 11.6117\n",
      "education-num stddev: 2.3851\n",
      "\n",
      "capital-gain\n",
      "Class: <=50K\n",
      "capital-gain mean: 148.7525\n",
      "capital-gain stddev: 963.1393\n",
      "Class: >50K\n",
      "capital-gain mean: 4006.1425\n",
      "capital-gain stddev: 14570.3790\n",
      "\n",
      "capital-loss\n",
      "Class: <=50K\n",
      "capital-loss mean: 53.1429\n",
      "capital-loss stddev: 310.7558\n",
      "Class: >50K\n",
      "capital-loss mean: 195.0015\n",
      "capital-loss stddev: 595.4876\n",
      "\n",
      "hours-per-week\n",
      "Class: <=50K\n",
      "hours-per-week mean: 38.8402\n",
      "hours-per-week stddev: 12.3190\n",
      "Class: >50K\n",
      "hours-per-week mean: 45.4730\n",
      "hours-per-week stddev: 11.0130\n",
      "\n"
     ]
    }
   ],
   "source": [
    "def slice_classes(df, cls_feat, feature):\n",
    "    \"\"\" Function for calculating descriptive stats on slices.\"\"\"\n",
    "    for cls in df[cls_feat].unique():\n",
    "        df_temp = df[df[cls_feat] == cls]\n",
    "        mean = df_temp[feature].mean()\n",
    "        stddev = df_temp[feature].std()\n",
    "        print(f\"Class: {cls}\")\n",
    "        print(f\"{feature} mean: {mean:.4f}\")\n",
    "        print(f\"{feature} stddev: {stddev:.4f}\")\n",
    "    print()\n",
    "\n",
    "\n",
    "for col in numeric_cols:\n",
    "    print(col)\n",
    "    slice_classes(df, cls_feat, col)"
   ]
  },
  {
   "cell_type": "code",
   "execution_count": 33,
   "id": "8c2c560a-cb18-469b-971d-edc7a7e7b7df",
   "metadata": {
    "scrolled": true
   },
   "outputs": [
    {
     "name": "stdout",
     "output_type": "stream",
     "text": [
      "Feature: workclass\n",
      "State-gov count: 1298\n",
      "Self-emp-not-inc count: 2541\n",
      "Private count: 22696\n",
      "Federal-gov count: 960\n",
      "Local-gov count: 2093\n",
      "? count: 1836\n",
      "Self-emp-inc count: 1116\n",
      "Without-pay count: 14\n",
      "Never-worked count: 7\n",
      "\n",
      "Feature: education\n",
      "Bachelors count: 5355\n",
      "HS-grad count: 10501\n",
      "11th count: 1175\n",
      "Masters count: 1723\n",
      "9th count: 514\n",
      "Some-college count: 7291\n",
      "Assoc-acdm count: 1067\n",
      "Assoc-voc count: 1382\n",
      "7th-8th count: 646\n",
      "Doctorate count: 413\n",
      "Prof-school count: 576\n",
      "5th-6th count: 333\n",
      "10th count: 933\n",
      "1st-4th count: 168\n",
      "Preschool count: 51\n",
      "12th count: 433\n",
      "\n",
      "Feature: marital-status\n",
      "Never-married count: 10683\n",
      "Married-civ-spouse count: 14976\n",
      "Divorced count: 4443\n",
      "Married-spouse-absent count: 418\n",
      "Separated count: 1025\n",
      "Married-AF-spouse count: 23\n",
      "Widowed count: 993\n",
      "\n",
      "Feature: occupation\n",
      "Adm-clerical count: 3770\n",
      "Exec-managerial count: 4066\n",
      "Handlers-cleaners count: 1370\n",
      "Prof-specialty count: 4140\n",
      "Other-service count: 3295\n",
      "Sales count: 3650\n",
      "Craft-repair count: 4099\n",
      "Transport-moving count: 1597\n",
      "Farming-fishing count: 994\n",
      "Machine-op-inspct count: 2002\n",
      "Tech-support count: 928\n",
      "? count: 1843\n",
      "Protective-serv count: 649\n",
      "Armed-Forces count: 9\n",
      "Priv-house-serv count: 149\n",
      "\n",
      "Feature: relationship\n",
      "Not-in-family count: 8305\n",
      "Husband count: 13193\n",
      "Wife count: 1568\n",
      "Own-child count: 5068\n",
      "Unmarried count: 3446\n",
      "Other-relative count: 981\n",
      "\n",
      "Feature: race\n",
      "White count: 27816\n",
      "Black count: 3124\n",
      "Asian-Pac-Islander count: 1039\n",
      "Amer-Indian-Eskimo count: 311\n",
      "Other count: 271\n",
      "\n",
      "Feature: sex\n",
      "Male count: 21790\n",
      "Female count: 10771\n",
      "\n",
      "Feature: native-country\n",
      "United-States count: 29170\n",
      "Cuba count: 95\n",
      "Jamaica count: 81\n",
      "India count: 100\n",
      "? count: 583\n",
      "Mexico count: 643\n",
      "South count: 80\n",
      "Puerto-Rico count: 114\n",
      "Honduras count: 13\n",
      "England count: 90\n",
      "Canada count: 121\n",
      "Germany count: 137\n",
      "Iran count: 43\n",
      "Philippines count: 198\n",
      "Italy count: 73\n",
      "Poland count: 60\n",
      "Columbia count: 59\n",
      "Cambodia count: 19\n",
      "Thailand count: 18\n",
      "Ecuador count: 28\n",
      "Laos count: 18\n",
      "Taiwan count: 51\n",
      "Haiti count: 44\n",
      "Portugal count: 37\n",
      "Dominican-Republic count: 70\n",
      "El-Salvador count: 106\n",
      "France count: 29\n",
      "Guatemala count: 64\n",
      "China count: 75\n",
      "Japan count: 62\n",
      "Yugoslavia count: 16\n",
      "Peru count: 31\n",
      "Outlying-US(Guam-USVI-etc) count: 14\n",
      "Scotland count: 12\n",
      "Trinadad&Tobago count: 19\n",
      "Greece count: 29\n",
      "Nicaragua count: 34\n",
      "Vietnam count: 67\n",
      "Hong count: 20\n",
      "Ireland count: 24\n",
      "Hungary count: 13\n",
      "Holand-Netherlands count: 1\n",
      "\n",
      "Feature: salary\n",
      "<=50K count: 24720\n",
      ">50K count: 7841\n",
      "\n"
     ]
    }
   ],
   "source": [
    "def slice_categorical(df, feature):\n",
    "    \"\"\" Function for calculating descriptive stats on slices.\"\"\"\n",
    "    for cls in df[feature].unique():\n",
    "        cls_idx = np.where((df[feature] == cls))\n",
    "        df_temp = df.iloc[cls_idx]\n",
    "        count = df_temp[feature].count()\n",
    "        print(f\"{cls} count: {count}\")\n",
    "\n",
    "    print()\n",
    "\n",
    "for col in str_cols:\n",
    "    print(f\"Feature: {col}\")\n",
    "    slice_categorical(df, col)"
   ]
  },
  {
   "cell_type": "markdown",
   "id": "cd104bf9-c5e4-40f1-b766-879fb1687210",
   "metadata": {},
   "source": [
    "# Other checks"
   ]
  },
  {
   "cell_type": "code",
   "execution_count": 61,
   "id": "e0a66b68-1fdf-4d97-91d2-6756187eaa08",
   "metadata": {},
   "outputs": [
    {
     "name": "stdout",
     "output_type": "stream",
     "text": [
      "['State-gov', 'Self-emp-not-inc', 'Private', 'Federal-gov', 'Local-gov', '?', 'Self-emp-inc', 'Without-pay', 'Never-worked']\n",
      "['Bachelors', 'HS-grad', '11th', 'Masters', '9th', 'Some-college', 'Assoc-acdm', 'Assoc-voc', '7th-8th', 'Doctorate', 'Prof-school', '5th-6th', '10th', '1st-4th', 'Preschool', '12th']\n",
      "['Never-married', 'Married-civ-spouse', 'Divorced', 'Married-spouse-absent', 'Separated', 'Married-AF-spouse', 'Widowed']\n",
      "['Adm-clerical', 'Exec-managerial', 'Handlers-cleaners', 'Prof-specialty', 'Other-service', 'Sales', 'Craft-repair', 'Transport-moving', 'Farming-fishing', 'Machine-op-inspct', 'Tech-support', '?', 'Protective-serv', 'Armed-Forces', 'Priv-house-serv']\n",
      "['Not-in-family', 'Husband', 'Wife', 'Own-child', 'Unmarried', 'Other-relative']\n",
      "['White', 'Black', 'Asian-Pac-Islander', 'Amer-Indian-Eskimo', 'Other']\n",
      "['Male', 'Female']\n",
      "['United-States', 'Cuba', 'Jamaica', 'India', '?', 'Mexico', 'South', 'Puerto-Rico', 'Honduras', 'England', 'Canada', 'Germany', 'Iran', 'Philippines', 'Italy', 'Poland', 'Columbia', 'Cambodia', 'Thailand', 'Ecuador', 'Laos', 'Taiwan', 'Haiti', 'Portugal', 'Dominican-Republic', 'El-Salvador', 'France', 'Guatemala', 'China', 'Japan', 'Yugoslavia', 'Peru', 'Outlying-US(Guam-USVI-etc)', 'Scotland', 'Trinadad&Tobago', 'Greece', 'Nicaragua', 'Vietnam', 'Hong', 'Ireland', 'Hungary', 'Holand-Netherlands']\n",
      "['<=50K', '>50K']\n"
     ]
    }
   ],
   "source": [
    "# all categoricals as text lists\n",
    "for col in str_cols:\n",
    "    print(df[col].unique().tolist())"
   ]
  },
  {
   "cell_type": "code",
   "execution_count": 67,
   "id": "50104ac4-6b09-412a-a760-19ad74a8bb98",
   "metadata": {
    "scrolled": true
   },
   "outputs": [
    {
     "data": {
      "text/plain": [
       "{'Preschool': 1,\n",
       " '1st-4th': 2,\n",
       " '5th-6th': 3,\n",
       " '7th-8th': 4,\n",
       " '9th': 5,\n",
       " '10th': 6,\n",
       " '11th': 7,\n",
       " '12th': 8,\n",
       " 'HS-grad': 9,\n",
       " 'Some-college': 10,\n",
       " 'Assoc-voc': 11,\n",
       " 'Assoc-acdm': 12,\n",
       " 'Bachelors': 13,\n",
       " 'Masters': 14,\n",
       " 'Prof-school': 15,\n",
       " 'Doctorate': 16}"
      ]
     },
     "execution_count": 67,
     "metadata": {},
     "output_type": "execute_result"
    }
   ],
   "source": [
    "# Create education to education-num mapping\n",
    "df[['education','education-num']].drop_duplicates().sort_values('education-num').set_index('education')['education-num'].to_dict()"
   ]
  },
  {
   "cell_type": "code",
   "execution_count": 68,
   "id": "56fe0162-4f3d-4158-98de-e3d977be98ae",
   "metadata": {},
   "outputs": [
    {
     "data": {
      "text/plain": [
       "Index(['age', 'workclass', 'fnlgt', 'education', 'education-num',\n",
       "       'marital-status', 'occupation', 'relationship', 'race', 'sex',\n",
       "       'capital-gain', 'capital-loss', 'hours-per-week', 'native-country',\n",
       "       'salary'],\n",
       "      dtype='object')"
      ]
     },
     "execution_count": 68,
     "metadata": {},
     "output_type": "execute_result"
    }
   ],
   "source": [
    "df.columns"
   ]
  },
  {
   "cell_type": "code",
   "execution_count": null,
   "id": "345c1c6f-0f45-4ebb-8e46-5a5b4ca267a7",
   "metadata": {},
   "outputs": [],
   "source": []
  }
 ],
 "metadata": {
  "kernelspec": {
   "display_name": "Python 3 (ipykernel)",
   "language": "python",
   "name": "python3"
  },
  "language_info": {
   "codemirror_mode": {
    "name": "ipython",
    "version": 3
   },
   "file_extension": ".py",
   "mimetype": "text/x-python",
   "name": "python",
   "nbconvert_exporter": "python",
   "pygments_lexer": "ipython3",
   "version": "3.13.3"
  }
 },
 "nbformat": 4,
 "nbformat_minor": 5
}
